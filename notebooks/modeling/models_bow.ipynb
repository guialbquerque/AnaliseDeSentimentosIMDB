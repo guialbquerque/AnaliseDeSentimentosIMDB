{
 "cells": [
  {
   "cell_type": "markdown",
   "metadata": {},
   "source": [
    "### **Modelos de Machine Learning utilizando a abordagem BoW (Bag of Words)**"
   ]
  },
  {
   "cell_type": "markdown",
   "metadata": {},
   "source": [
    "#### Importando os pacotes necessários"
   ]
  },
  {
   "cell_type": "code",
   "execution_count": 1,
   "metadata": {},
   "outputs": [],
   "source": [
    "from sklearn.linear_model import LogisticRegression\n",
    "from sklearn.naive_bayes import GaussianNB\n",
    "from sklearn.naive_bayes import MultinomialNB\n",
    "from sklearn.svm import SVC\n",
    "from sklearn.ensemble import RandomForestClassifier\n",
    "import sys\n",
    "sys.path.append('/home/guilherme/AIEnvironment/SentimentAnalysis/src/modeling')\n",
    "sys.path.append('/home/guilherme/AIEnvironment/SentimentAnalysis/src/data_preparation')\n",
    "from bag_of_words import classification_text_bow\n",
    "from data_exploration import load_data"
   ]
  },
  {
   "cell_type": "code",
   "execution_count": 2,
   "metadata": {},
   "outputs": [
    {
     "data": {
      "text/html": [
       "<div>\n",
       "<style scoped>\n",
       "    .dataframe tbody tr th:only-of-type {\n",
       "        vertical-align: middle;\n",
       "    }\n",
       "\n",
       "    .dataframe tbody tr th {\n",
       "        vertical-align: top;\n",
       "    }\n",
       "\n",
       "    .dataframe thead th {\n",
       "        text-align: right;\n",
       "    }\n",
       "</style>\n",
       "<table border=\"1\" class=\"dataframe\">\n",
       "  <thead>\n",
       "    <tr style=\"text-align: right;\">\n",
       "      <th></th>\n",
       "      <th>Reviews</th>\n",
       "      <th>Sentiment</th>\n",
       "    </tr>\n",
       "  </thead>\n",
       "  <tbody>\n",
       "    <tr>\n",
       "      <th>0</th>\n",
       "      <td>Once again Mr. Costner has dragged out a movie...</td>\n",
       "      <td>0</td>\n",
       "    </tr>\n",
       "    <tr>\n",
       "      <th>1</th>\n",
       "      <td>This is an example of why the majority of acti...</td>\n",
       "      <td>0</td>\n",
       "    </tr>\n",
       "    <tr>\n",
       "      <th>2</th>\n",
       "      <td>First of all I hate those moronic rappers, who...</td>\n",
       "      <td>0</td>\n",
       "    </tr>\n",
       "    <tr>\n",
       "      <th>3</th>\n",
       "      <td>Not even the Beatles could write songs everyon...</td>\n",
       "      <td>0</td>\n",
       "    </tr>\n",
       "    <tr>\n",
       "      <th>4</th>\n",
       "      <td>Brass pictures movies is not a fitting word fo...</td>\n",
       "      <td>0</td>\n",
       "    </tr>\n",
       "  </tbody>\n",
       "</table>\n",
       "</div>"
      ],
      "text/plain": [
       "                                             Reviews  Sentiment\n",
       "0  Once again Mr. Costner has dragged out a movie...          0\n",
       "1  This is an example of why the majority of acti...          0\n",
       "2  First of all I hate those moronic rappers, who...          0\n",
       "3  Not even the Beatles could write songs everyon...          0\n",
       "4  Brass pictures movies is not a fitting word fo...          0"
      ]
     },
     "execution_count": 2,
     "metadata": {},
     "output_type": "execute_result"
    }
   ],
   "source": [
    "df = load_data('/home/guilherme/AIEnvironment/SentimentAnalysis/data/processed/df_imdb.csv')\n",
    "df.head()"
   ]
  },
  {
   "cell_type": "markdown",
   "metadata": {},
   "source": [
    "#### Modelo de Regressão Logística - Sem tratamento"
   ]
  },
  {
   "cell_type": "code",
   "execution_count": 3,
   "metadata": {},
   "outputs": [
    {
     "name": "stdout",
     "output_type": "stream",
     "text": [
      "Acurácia modelo de Regressão Logística: 73.21%\n"
     ]
    }
   ],
   "source": [
    "\n",
    "lg_model = classification_text_bow(df, 'Reviews', 'Sentiment', LogisticRegression())\n",
    "print(f\"Acurácia modelo de Regressão Logística: {(lg_model*100):.2f}%\")"
   ]
  },
  {
   "cell_type": "markdown",
   "metadata": {},
   "source": [
    "#### Modelo de Naive Bayes Gaussiano - Sem tratamento"
   ]
  },
  {
   "cell_type": "code",
   "execution_count": 4,
   "metadata": {},
   "outputs": [
    {
     "name": "stdout",
     "output_type": "stream",
     "text": [
      "Acurácia modelo de Naive Bayes Gaussiano: 68.02%\n"
     ]
    }
   ],
   "source": [
    "nv_model = classification_text_bow(df, 'Reviews', 'Sentiment', GaussianNB())\n",
    "print(f\"Acurácia modelo de Naive Bayes Gaussiano: {(nv_model*100):.2f}%\")"
   ]
  },
  {
   "cell_type": "markdown",
   "metadata": {},
   "source": [
    "#### Modelo de Naive Bayes Multinomial - Sem tratamento"
   ]
  },
  {
   "cell_type": "code",
   "execution_count": 8,
   "metadata": {},
   "outputs": [
    {
     "name": "stdout",
     "output_type": "stream",
     "text": [
      "Acurácia modelo de Naive Bayes Multinominal: 68.25%\n"
     ]
    }
   ],
   "source": [
    "nv_model = classification_text_bow(df, 'Reviews', 'Sentiment', MultinomialNB())\n",
    "print(f\"Acurácia modelo de Naive Bayes Multinominal: {(nv_model*100):.2f}%\")"
   ]
  },
  {
   "cell_type": "markdown",
   "metadata": {},
   "source": [
    "#### Modelo de Random Forest - Sem tratamento"
   ]
  },
  {
   "cell_type": "code",
   "execution_count": 7,
   "metadata": {},
   "outputs": [
    {
     "name": "stdout",
     "output_type": "stream",
     "text": [
      "Acurácia modelo de Random Forest: 71.49%\n"
     ]
    }
   ],
   "source": [
    "rf_model = classification_text_bow(df, 'Reviews', 'Sentiment', RandomForestClassifier())\n",
    "print(f\"Acurácia modelo de Random Forest: {rf_model*100:.2f}%\")"
   ]
  },
  {
   "cell_type": "markdown",
   "metadata": {},
   "source": [
    "#### Modelo de SVM - Sem tratamento"
   ]
  },
  {
   "cell_type": "code",
   "execution_count": 9,
   "metadata": {},
   "outputs": [
    {
     "name": "stdout",
     "output_type": "stream",
     "text": [
      "Acurácia modelo de Support Vector Machine: 73.69%\n"
     ]
    }
   ],
   "source": [
    "svc_model = classification_text_bow(df, 'Reviews', 'Sentiment', SVC())\n",
    "print(f\"Acurácia modelo de Support Vector Machine: {svc_model*100:.2f}%\")"
   ]
  },
  {
   "cell_type": "markdown",
   "metadata": {},
   "source": [
    "#### Avaliação dos modelos - Sem tratamento\n",
    "\n",
    "- Utilizando apenas a métrica de acurácia para avaliação dos modelos, já que as classes encontram-se balanceadas, os modelos tiveram desempenhos baixos e semelhantes entre si, variando de 68.02% até 73.69%. Portanto, a abordagem BoW não foi eficiente para a classificação dos textos."
   ]
  }
 ],
 "metadata": {
  "kernelspec": {
   "display_name": "sentimentanalysis-5SYTC4Tw-py3.12",
   "language": "python",
   "name": "python3"
  },
  "language_info": {
   "codemirror_mode": {
    "name": "ipython",
    "version": 3
   },
   "file_extension": ".py",
   "mimetype": "text/x-python",
   "name": "python",
   "nbconvert_exporter": "python",
   "pygments_lexer": "ipython3",
   "version": "3.12.1"
  }
 },
 "nbformat": 4,
 "nbformat_minor": 2
}
