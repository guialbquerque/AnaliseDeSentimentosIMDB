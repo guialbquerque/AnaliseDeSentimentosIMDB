{
 "cells": [
  {
   "cell_type": "markdown",
   "metadata": {},
   "source": [
    "#### **Aplicação dos modelos de Machine Learning nas avaliações dos textos após técnicas do NLTK** "
   ]
  },
  {
   "cell_type": "markdown",
   "metadata": {},
   "source": [
    "Imports necessários"
   ]
  },
  {
   "cell_type": "code",
   "execution_count": 1,
   "metadata": {},
   "outputs": [],
   "source": [
    "import sys\n",
    "sys.path.append('/home/guilherme/AIEnvironment/SentimentAnalysis/src/modeling')\n",
    "sys.path.append('/home/guilherme/AIEnvironment/SentimentAnalysis/src/data_preparation')\n",
    "from data_exploration import load_data\n",
    "from nltk_classification import classification_text_nltk\n",
    "from sklearn.linear_model import LogisticRegression\n",
    "from sklearn.naive_bayes import GaussianNB\n",
    "from sklearn.naive_bayes import MultinomialNB\n",
    "from sklearn.svm import SVC\n",
    "from sklearn.ensemble import RandomForestClassifier"
   ]
  },
  {
   "cell_type": "markdown",
   "metadata": {},
   "source": [
    "#### Carregamento do dataset com os textos tratados"
   ]
  },
  {
   "cell_type": "code",
   "execution_count": 3,
   "metadata": {},
   "outputs": [
    {
     "data": {
      "text/html": [
       "<div>\n",
       "<style scoped>\n",
       "    .dataframe tbody tr th:only-of-type {\n",
       "        vertical-align: middle;\n",
       "    }\n",
       "\n",
       "    .dataframe tbody tr th {\n",
       "        vertical-align: top;\n",
       "    }\n",
       "\n",
       "    .dataframe thead th {\n",
       "        text-align: right;\n",
       "    }\n",
       "</style>\n",
       "<table border=\"1\" class=\"dataframe\">\n",
       "  <thead>\n",
       "    <tr style=\"text-align: right;\">\n",
       "      <th></th>\n",
       "      <th>Reviews</th>\n",
       "      <th>Sentiment</th>\n",
       "      <th>Treatment1</th>\n",
       "      <th>Treatment2</th>\n",
       "      <th>Treatment3</th>\n",
       "      <th>Treatment4</th>\n",
       "    </tr>\n",
       "  </thead>\n",
       "  <tbody>\n",
       "    <tr>\n",
       "      <th>0</th>\n",
       "      <td>Once again Mr. Costner has dragged out a movie...</td>\n",
       "      <td>0</td>\n",
       "      <td>Once Mr. Costner dragged movie far longer nece...</td>\n",
       "      <td>Once Mr Costner dragged movie far longer neces...</td>\n",
       "      <td>mr costner dragged movie far longer necessary ...</td>\n",
       "      <td>mr costner drag movi far longer necessari asid...</td>\n",
       "    </tr>\n",
       "    <tr>\n",
       "      <th>1</th>\n",
       "      <td>This is an example of why the majority of acti...</td>\n",
       "      <td>0</td>\n",
       "      <td>This example majority action films same. Gener...</td>\n",
       "      <td>This example majority action films Generic bor...</td>\n",
       "      <td>example majority action films generic boring t...</td>\n",
       "      <td>exampl major action film gener bore there real...</td>\n",
       "    </tr>\n",
       "    <tr>\n",
       "      <th>2</th>\n",
       "      <td>First of all I hate those moronic rappers, who...</td>\n",
       "      <td>0</td>\n",
       "      <td>First I hate moronic rappers, couldnt act gun ...</td>\n",
       "      <td>First I hate moronic rappers couldnt act gun p...</td>\n",
       "      <td>first hate moronic rappers couldnt act gun pre...</td>\n",
       "      <td>first hate moron rapper couldnt act gun press ...</td>\n",
       "    </tr>\n",
       "    <tr>\n",
       "      <th>3</th>\n",
       "      <td>Not even the Beatles could write songs everyon...</td>\n",
       "      <td>0</td>\n",
       "      <td>Not even Beatles could write songs everyone li...</td>\n",
       "      <td>Not even Beatles could write songs everyone li...</td>\n",
       "      <td>even beatles could write songs everyone liked ...</td>\n",
       "      <td>even beatl could write song everyon like altho...</td>\n",
       "    </tr>\n",
       "    <tr>\n",
       "      <th>4</th>\n",
       "      <td>Brass pictures movies is not a fitting word fo...</td>\n",
       "      <td>0</td>\n",
       "      <td>Brass pictures movies fitting word really some...</td>\n",
       "      <td>Brass pictures movies fitting word really some...</td>\n",
       "      <td>brass pictures movies fitting word really some...</td>\n",
       "      <td>brass pictur movi fit word realli somewhat bra...</td>\n",
       "    </tr>\n",
       "  </tbody>\n",
       "</table>\n",
       "</div>"
      ],
      "text/plain": [
       "                                             Reviews  Sentiment  \\\n",
       "0  Once again Mr. Costner has dragged out a movie...          0   \n",
       "1  This is an example of why the majority of acti...          0   \n",
       "2  First of all I hate those moronic rappers, who...          0   \n",
       "3  Not even the Beatles could write songs everyon...          0   \n",
       "4  Brass pictures movies is not a fitting word fo...          0   \n",
       "\n",
       "                                          Treatment1  \\\n",
       "0  Once Mr. Costner dragged movie far longer nece...   \n",
       "1  This example majority action films same. Gener...   \n",
       "2  First I hate moronic rappers, couldnt act gun ...   \n",
       "3  Not even Beatles could write songs everyone li...   \n",
       "4  Brass pictures movies fitting word really some...   \n",
       "\n",
       "                                          Treatment2  \\\n",
       "0  Once Mr Costner dragged movie far longer neces...   \n",
       "1  This example majority action films Generic bor...   \n",
       "2  First I hate moronic rappers couldnt act gun p...   \n",
       "3  Not even Beatles could write songs everyone li...   \n",
       "4  Brass pictures movies fitting word really some...   \n",
       "\n",
       "                                          Treatment3  \\\n",
       "0  mr costner dragged movie far longer necessary ...   \n",
       "1  example majority action films generic boring t...   \n",
       "2  first hate moronic rappers couldnt act gun pre...   \n",
       "3  even beatles could write songs everyone liked ...   \n",
       "4  brass pictures movies fitting word really some...   \n",
       "\n",
       "                                          Treatment4  \n",
       "0  mr costner drag movi far longer necessari asid...  \n",
       "1  exampl major action film gener bore there real...  \n",
       "2  first hate moron rapper couldnt act gun press ...  \n",
       "3  even beatl could write song everyon like altho...  \n",
       "4  brass pictur movi fit word realli somewhat bra...  "
      ]
     },
     "execution_count": 3,
     "metadata": {},
     "output_type": "execute_result"
    }
   ],
   "source": [
    "df = load_data('/home/guilherme/AIEnvironment/SentimentAnalysis/data/processed/df_imdb_treated.csv')\n",
    "df.head()"
   ]
  },
  {
   "cell_type": "markdown",
   "metadata": {},
   "source": [
    "#### Resultados - Tratamento 1 - Remoção de Stopwords"
   ]
  },
  {
   "cell_type": "markdown",
   "metadata": {},
   "source": [
    "**Modelo de Regressão Logística**"
   ]
  },
  {
   "cell_type": "code",
   "execution_count": 5,
   "metadata": {},
   "outputs": [
    {
     "name": "stdout",
     "output_type": "stream",
     "text": [
      "Acurácia modelo de Regressão Logística: 73.51%\n"
     ]
    }
   ],
   "source": [
    "lg_model = classification_text_nltk(df, 'Treatment1', 'Sentiment', LogisticRegression())\n",
    "print(f\"Acurácia modelo de Regressão Logística: {(lg_model*100):.2f}%\")"
   ]
  },
  {
   "cell_type": "markdown",
   "metadata": {},
   "source": [
    "**Modelo de Naive Bayes Gaussiano**"
   ]
  },
  {
   "cell_type": "code",
   "execution_count": 6,
   "metadata": {},
   "outputs": [
    {
     "name": "stdout",
     "output_type": "stream",
     "text": [
      "Acurácia modelo de Naive Bayes Gaussiano: 68.42%\n"
     ]
    }
   ],
   "source": [
    "nv_model = classification_text_nltk(df, 'Treatment1', 'Sentiment', GaussianNB())\n",
    "print(f\"Acurácia modelo de Naive Bayes Gaussiano: {(nv_model*100):.2f}%\")"
   ]
  },
  {
   "cell_type": "markdown",
   "metadata": {},
   "source": [
    "**Modelo de Naive Bayes Multinominal**"
   ]
  },
  {
   "cell_type": "code",
   "execution_count": 7,
   "metadata": {},
   "outputs": [
    {
     "name": "stdout",
     "output_type": "stream",
     "text": [
      "Acurácia modelo de Naive Bayes Multinominal: 71.76%\n"
     ]
    }
   ],
   "source": [
    "nv_model = classification_text_nltk(df, 'Treatment1', 'Sentiment', MultinomialNB())\n",
    "print(f\"Acurácia modelo de Naive Bayes Multinominal: {(nv_model*100):.2f}%\")"
   ]
  },
  {
   "cell_type": "markdown",
   "metadata": {},
   "source": [
    "**Modelo de Random Forest**\n"
   ]
  },
  {
   "cell_type": "code",
   "execution_count": 8,
   "metadata": {},
   "outputs": [
    {
     "name": "stdout",
     "output_type": "stream",
     "text": [
      "Acurácia modelo de Random Forest: 72.53%\n"
     ]
    }
   ],
   "source": [
    "rf_model = classification_text_nltk(df, 'Treatment1', 'Sentiment', RandomForestClassifier())\n",
    "print(f\"Acurácia modelo de Random Forest: {rf_model*100:.2f}%\")"
   ]
  },
  {
   "cell_type": "markdown",
   "metadata": {},
   "source": [
    "**Modelo de Support Vector Machine**"
   ]
  },
  {
   "cell_type": "code",
   "execution_count": 9,
   "metadata": {},
   "outputs": [
    {
     "name": "stdout",
     "output_type": "stream",
     "text": [
      "Acurácia modelo de Support Vector Machine: 73.59%\n"
     ]
    }
   ],
   "source": [
    "svc_model = classification_text_nltk(df, 'Treatment1', 'Sentiment', SVC())\n",
    "print(f\"Acurácia modelo de Support Vector Machine: {svc_model*100:.2f}%\")"
   ]
  }
 ],
 "metadata": {
  "kernelspec": {
   "display_name": "sentimentanalysis-5SYTC4Tw-py3.12",
   "language": "python",
   "name": "python3"
  },
  "language_info": {
   "codemirror_mode": {
    "name": "ipython",
    "version": 3
   },
   "file_extension": ".py",
   "mimetype": "text/x-python",
   "name": "python",
   "nbconvert_exporter": "python",
   "pygments_lexer": "ipython3",
   "version": "3.12.1"
  }
 },
 "nbformat": 4,
 "nbformat_minor": 2
}
