{
 "cells": [
  {
   "cell_type": "markdown",
   "metadata": {},
   "source": [
    "### **Visualização do dataset**"
   ]
  },
  {
   "cell_type": "code",
   "execution_count": 1,
   "metadata": {},
   "outputs": [],
   "source": [
    "import sys\n",
    "sys.path.append('/home/guilherme/AIEnvironment/SentimentAnalysis/src/data_preparation')\n",
    "sys.path.append('/home/guilherme/AIEnvironment/SentimentAnalysis/src/feature_engineering')\n",
    "from data_exploration import load_data, read_text\n"
   ]
  },
  {
   "cell_type": "markdown",
   "metadata": {},
   "source": [
    "#### **Carregando a base de dados e visualizando a primeira avaliação**"
   ]
  },
  {
   "cell_type": "code",
   "execution_count": 2,
   "metadata": {},
   "outputs": [
    {
     "name": "stdout",
     "output_type": "stream",
     "text": [
      "Once again Mr. Costner has dragged out a movie for far longer than necessary. Aside from t\n",
      "he terrific sea rescue sequences, of which there are very few I just did not care about an\n",
      "y of the characters. Most of us have ghosts in the closet, and Costners character are real\n",
      "ized early on, and then forgotten until much later, by which time I did not care. The char\n",
      "acter we should really care about is a very cocky, overconfident Ashton Kutcher. The probl\n",
      "em is he comes off as kid who thinks hes better than anyone else around him and shows no s\n",
      "igns of a cluttered closet. His only obstacle appears to be winning over Costner. Finally \n",
      "when we are well past the half way point of this stinker, Costner tells us all about Kutch\n",
      "ers ghosts. We are told why Kutcher is driven to be the best with no prior inkling or fore\n",
      "shadowing. No magic here, it was all I could do to keep from turning it off an hour in.\n"
     ]
    }
   ],
   "source": [
    "df = load_data(\"/home/guilherme/AIEnvironment/SentimentAnalysis/data/processed/df_imdb.csv\")\n",
    "text = df['Reviews'][0]\n",
    "first_text = read_text(text)\n",
    "for text in first_text:\n",
    "    print(text)"
   ]
  },
  {
   "cell_type": "markdown",
   "metadata": {},
   "source": [
    "#### Resposta: \n",
    "- Como pode-se perceber, são apenas textos, a avaliação inclusive mostra uma crítica negativa. Para que algoritmos de Machine Learning apropriados possam ser aplicados, é preciso tratar os textos de forma numérica.\n",
    "\n",
    "### **Pré-processamento: Aplicando técnicas de NLP (Natural Language Processing)**\n",
    "\n",
    "#### **1. Bag of Words**\n",
    "\n",
    "- Abordagem que consiste em realizar uma contagem de palavras, ou seja, transformar o texto em um vetor de números. Processo de extração de características de texto para que uma forma estruturada possa ser utilizada para algoritmos de Machine Learning.\n",
    "\n",
    "Obs: A técnica Bag of Words não leva em consideração a ordem das palavras, apenas a frequência com que aparecem, não sendo apropriada para textos longos, também não realiza nenhum tratamento nos textos. \n"
   ]
  }
 ],
 "metadata": {
  "kernelspec": {
   "display_name": "sentimentanalysis-5SYTC4Tw-py3.12",
   "language": "python",
   "name": "python3"
  },
  "language_info": {
   "codemirror_mode": {
    "name": "ipython",
    "version": 3
   },
   "file_extension": ".py",
   "mimetype": "text/x-python",
   "name": "python",
   "nbconvert_exporter": "python",
   "pygments_lexer": "ipython3",
   "version": "3.12.1"
  }
 },
 "nbformat": 4,
 "nbformat_minor": 2
}
